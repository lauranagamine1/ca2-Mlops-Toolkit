{
 "cells": [
  {
   "metadata": {
    "ExecuteTime": {
     "end_time": "2025-09-13T20:23:40.575592Z",
     "start_time": "2025-09-13T20:23:40.572066Z"
    }
   },
   "cell_type": "code",
   "source": [
    "import pandas as pd\n",
    "import sklearn\n",
    "from sklearn.model_selection import train_test_split\n",
    "from sklearn.metrics import mean_squared_error, r2_score, mean_absolute_error\n",
    "from sklearn.linear_model import LinearRegression,  RidgeCV, LassoCV, ElasticNetCV"
   ],
   "id": "d1ec0e7b544b8447",
   "outputs": [],
   "execution_count": 104
  },
  {
   "metadata": {
    "ExecuteTime": {
     "end_time": "2025-09-13T20:23:40.594739Z",
     "start_time": "2025-09-13T20:23:40.585901Z"
    }
   },
   "cell_type": "code",
   "source": [
    "CSV_PATH = \"Student_performance_data _.csv\"\n",
    "df = pd.read_csv(CSV_PATH)\n",
    "y= df['GPA']\n",
    "x= df.drop(['StudentID','Gender','Ethnicity','GradeClass','GPA'],axis=1)"
   ],
   "id": "e9131f0e580d80e4",
   "outputs": [],
   "execution_count": 105
  },
  {
   "metadata": {
    "ExecuteTime": {
     "end_time": "2025-09-13T20:23:40.611528Z",
     "start_time": "2025-09-13T20:23:40.605983Z"
    }
   },
   "cell_type": "code",
   "source": [
    "x_train, x_test, y_train, y_test = train_test_split(x, y, test_size=0.2, random_state=42)\n",
    "print(\"Train size :\", x_train.shape, y_train.shape)\n",
    "print(\"Test size  :\", x_test.shape, y_test.shape)"
   ],
   "id": "9414cb69c387fedc",
   "outputs": [
    {
     "name": "stdout",
     "output_type": "stream",
     "text": [
      "Train size : (1913, 10) (1913,)\n",
      "Test size  : (479, 10) (479,)\n"
     ]
    }
   ],
   "execution_count": 106
  },
  {
   "metadata": {
    "ExecuteTime": {
     "end_time": "2025-09-13T20:23:40.626137Z",
     "start_time": "2025-09-13T20:23:40.621668Z"
    }
   },
   "cell_type": "code",
   "source": [
    "def evaluar_modelo(model, x_test, y_test, print_metrics=True):\n",
    "    #Evalúa un modelo de regresión con MSE, R2 y MAE.\n",
    "\n",
    "    y_pred = model.predict(x_test)\n",
    "    mse = mean_squared_error(y_test, y_pred)\n",
    "    r2  = r2_score(y_test, y_pred)\n",
    "    mae = mean_absolute_error(y_test, y_pred)\n",
    "\n",
    "    if print_metrics:\n",
    "        print(\"Mean Squared Error:\", mse)\n",
    "        print(\"R squared:\", r2)\n",
    "        print(\"Mean absolute Error:\", mae)\n",
    "    resultados={\"mse\": mse, \"r2\": r2, \"mae\": mae}\n",
    "    return resultados"
   ],
   "id": "ac66b373191d5fad",
   "outputs": [],
   "execution_count": 107
  },
  {
   "metadata": {
    "ExecuteTime": {
     "end_time": "2025-09-13T20:23:40.656146Z",
     "start_time": "2025-09-13T20:23:40.647124Z"
    }
   },
   "cell_type": "code",
   "source": [
    "model_base = LinearRegression()\n",
    "model_base.fit(x_train, y_train)\n",
    "res1 = evaluar_modelo(model_base, x_test, y_test, True)"
   ],
   "id": "2941a384aa35c6a9",
   "outputs": [
    {
     "name": "stdout",
     "output_type": "stream",
     "text": [
      "Mean Squared Error: 0.038724020841933736\n",
      "R squared: 0.9531714916247549\n",
      "Mean absolute Error: 0.1554642891824548\n"
     ]
    }
   ],
   "execution_count": 108
  },
  {
   "metadata": {
    "ExecuteTime": {
     "end_time": "2025-09-13T20:23:40.742460Z",
     "start_time": "2025-09-13T20:23:40.673919Z"
    }
   },
   "cell_type": "code",
   "source": [
    "model_lasso = LassoCV()\n",
    "model_lasso.fit(x_train, y_train)\n",
    "res2 = evaluar_modelo(model_lasso, x_test, y_test, True)"
   ],
   "id": "332d5ef08356a4ed",
   "outputs": [
    {
     "name": "stdout",
     "output_type": "stream",
     "text": [
      "Mean Squared Error: 0.039516109438980866\n",
      "R squared: 0.9522136280895563\n",
      "Mean absolute Error: 0.15547328941706887\n"
     ]
    }
   ],
   "execution_count": 109
  },
  {
   "metadata": {
    "ExecuteTime": {
     "end_time": "2025-09-13T20:23:40.758227Z",
     "start_time": "2025-09-13T20:23:40.749817Z"
    }
   },
   "cell_type": "code",
   "source": [
    "model_ridge = RidgeCV()\n",
    "model_ridge.fit(x_train, y_train)\n",
    "res3 = evaluar_modelo(model_ridge, x_test, y_test, True)"
   ],
   "id": "361f5071ba8e075a",
   "outputs": [
    {
     "name": "stdout",
     "output_type": "stream",
     "text": [
      "Mean Squared Error: 0.03871889649315521\n",
      "R squared: 0.9531776884401804\n",
      "Mean absolute Error: 0.15544153937918662\n"
     ]
    }
   ],
   "execution_count": 110
  },
  {
   "metadata": {
    "ExecuteTime": {
     "end_time": "2025-09-13T20:23:40.845786Z",
     "start_time": "2025-09-13T20:23:40.779891Z"
    }
   },
   "cell_type": "code",
   "source": [
    "model_elasticNet = ElasticNetCV()\n",
    "model_elasticNet.fit(x_train, y_train)\n",
    "res4 = evaluar_modelo(model_elasticNet, x_test, y_test, True)"
   ],
   "id": "24a925e4e3bdaf2c",
   "outputs": [
    {
     "name": "stdout",
     "output_type": "stream",
     "text": [
      "Mean Squared Error: 0.03978902478048078\n",
      "R squared: 0.9518835947387498\n",
      "Mean absolute Error: 0.1558328317694584\n"
     ]
    }
   ],
   "execution_count": 111
  },
  {
   "metadata": {
    "ExecuteTime": {
     "end_time": "2025-09-13T20:23:40.858805Z",
     "start_time": "2025-09-13T20:23:40.853433Z"
    }
   },
   "cell_type": "code",
   "source": [
    "resultados = [res1, res2, res3, res4]\n",
    "\n",
    "# Mejor según R²\n",
    "mejor_r2 = max(resultados, key=lambda x: x['r2'])\n",
    "print(\"Mejor modelo por R2:\", mejor_r2)\n",
    "\n",
    "# Mejor según MAE\n",
    "mejor_mae = min(resultados, key=lambda x: x['mae'])\n",
    "print(\"Mejor modelo por MAE:\", mejor_mae)\n",
    "\n",
    "# Mejor según MSE\n",
    "mejor_mse = min(resultados, key=lambda x: x['mse'])\n",
    "print(\"Mejor modelo por MSE:\", mejor_mse)\n",
    "\n",
    "#El mejor modelo por R2, MAE y MSE es el de Ridge"
   ],
   "id": "245f53342ddd8ae",
   "outputs": [
    {
     "name": "stdout",
     "output_type": "stream",
     "text": [
      "Mejor modelo por R2: {'mse': 0.03871889649315521, 'r2': 0.9531776884401804, 'mae': 0.15544153937918662}\n",
      "Mejor modelo por MAE: {'mse': 0.03871889649315521, 'r2': 0.9531776884401804, 'mae': 0.15544153937918662}\n",
      "Mejor modelo por MSE: {'mse': 0.03871889649315521, 'r2': 0.9531776884401804, 'mae': 0.15544153937918662}\n"
     ]
    }
   ],
   "execution_count": 112
  },
  {
   "metadata": {},
   "cell_type": "markdown",
   "source": "**El modelo con mejor R2 es el regularizado por ridge**",
   "id": "127faa82300a9657"
  },
  {
   "metadata": {
    "ExecuteTime": {
     "end_time": "2025-09-13T20:23:40.875680Z",
     "start_time": "2025-09-13T20:23:40.868606Z"
    }
   },
   "cell_type": "code",
   "source": [
    "import joblib\n",
    "\n",
    "joblib.dump(model_ridge, 'linear_regression_model.pkl')\n",
    "print(\"Model saved as 'linear_regression_model.pkl'\")"
   ],
   "id": "b7e62d472fa0a4bf",
   "outputs": [
    {
     "name": "stdout",
     "output_type": "stream",
     "text": [
      "Model saved as 'linear_regression_model.pkl'\n"
     ]
    }
   ],
   "execution_count": 113
  }
 ],
 "metadata": {
  "kernelspec": {
   "name": "python3",
   "language": "python",
   "display_name": "Python 3 (ipykernel)"
  }
 },
 "nbformat": 4,
 "nbformat_minor": 5
}
