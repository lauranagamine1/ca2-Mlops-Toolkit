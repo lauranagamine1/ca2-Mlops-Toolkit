{
 "cells": [
  {
   "metadata": {
    "ExecuteTime": {
     "end_time": "2025-09-13T20:20:11.346068Z",
     "start_time": "2025-09-13T20:20:11.341997Z"
    }
   },
   "cell_type": "code",
   "source": [
    "import pandas as pd\n",
    "import sklearn\n",
    "from sklearn.model_selection import train_test_split\n",
    "from sklearn.metrics import mean_squared_error, r2_score, mean_absolute_error\n",
    "from sklearn.linear_model import LinearRegression,  RidgeCV, LassoCV, ElasticNetCV"
   ],
   "id": "d1ec0e7b544b8447",
   "outputs": [],
   "execution_count": 74
  },
  {
   "metadata": {
    "ExecuteTime": {
     "end_time": "2025-09-13T20:20:11.367717Z",
     "start_time": "2025-09-13T20:20:11.358584Z"
    }
   },
   "cell_type": "code",
   "source": [
    "CSV_PATH = \"Student_performance_data _.csv\"\n",
    "df = pd.read_csv(CSV_PATH)\n",
    "y= df['GPA']\n",
    "x= df.drop(['StudentID','Age','Gender','Ethnicity','GradeClass','GPA'],axis=1)"
   ],
   "id": "e9131f0e580d80e4",
   "outputs": [],
   "execution_count": 75
  },
  {
   "metadata": {
    "ExecuteTime": {
     "end_time": "2025-09-13T20:20:11.382606Z",
     "start_time": "2025-09-13T20:20:11.376221Z"
    }
   },
   "cell_type": "code",
   "source": [
    "x_train, x_test, y_train, y_test = train_test_split(x, y, test_size=0.2, random_state=42)\n",
    "print(\"Train size :\", x_train.shape, y_train.shape)\n",
    "print(\"Test size  :\", x_test.shape, y_test.shape)"
   ],
   "id": "9414cb69c387fedc",
   "outputs": [
    {
     "name": "stdout",
     "output_type": "stream",
     "text": [
      "Train size : (1913, 9) (1913,)\n",
      "Test size  : (479, 9) (479,)\n"
     ]
    }
   ],
   "execution_count": 76
  },
  {
   "metadata": {
    "ExecuteTime": {
     "end_time": "2025-09-13T20:20:11.409068Z",
     "start_time": "2025-09-13T20:20:11.404377Z"
    }
   },
   "cell_type": "code",
   "source": [
    "def evaluar_modelo(model, x_test, y_test, print_metrics=True):\n",
    "    #Evalúa un modelo de regresión con MSE, R2 y MAE.\n",
    "\n",
    "    y_pred = model.predict(x_test)\n",
    "    mse = mean_squared_error(y_test, y_pred)\n",
    "    r2  = r2_score(y_test, y_pred)\n",
    "    mae = mean_absolute_error(y_test, y_pred)\n",
    "\n",
    "    if print_metrics:\n",
    "        print(\"Mean Squared Error:\", mse)\n",
    "        print(\"R squared:\", r2)\n",
    "        print(\"Mean absolute Error:\", mae)\n",
    "    resultados={\"mse\": mse, \"r2\": r2, \"mae\": mae}\n",
    "    return resultados"
   ],
   "id": "ac66b373191d5fad",
   "outputs": [],
   "execution_count": 77
  },
  {
   "metadata": {
    "ExecuteTime": {
     "end_time": "2025-09-13T20:20:11.430386Z",
     "start_time": "2025-09-13T20:20:11.420623Z"
    }
   },
   "cell_type": "code",
   "source": [
    "model_base = LinearRegression()\n",
    "model_base.fit(x_train, y_train)\n",
    "res1 = evaluar_modelo(model_base, x_test, y_test, True)"
   ],
   "id": "2941a384aa35c6a9",
   "outputs": [
    {
     "name": "stdout",
     "output_type": "stream",
     "text": [
      "Mean Squared Error: 0.03874180874388071\n",
      "R squared: 0.9531499809216514\n",
      "Mean absolute Error: 0.15551215296363322\n"
     ]
    }
   ],
   "execution_count": 78
  },
  {
   "metadata": {
    "ExecuteTime": {
     "end_time": "2025-09-13T20:20:11.525438Z",
     "start_time": "2025-09-13T20:20:11.460302Z"
    }
   },
   "cell_type": "code",
   "source": [
    "model_lasso = LassoCV()\n",
    "model_lasso.fit(x_train, y_train)\n",
    "res2 = evaluar_modelo(model_lasso, x_test, y_test, True)"
   ],
   "id": "332d5ef08356a4ed",
   "outputs": [
    {
     "name": "stdout",
     "output_type": "stream",
     "text": [
      "Mean Squared Error: 0.03952030197729757\n",
      "R squared: 0.9522085581016932\n",
      "Mean absolute Error: 0.1554769840572718\n"
     ]
    }
   ],
   "execution_count": 79
  },
  {
   "metadata": {
    "ExecuteTime": {
     "end_time": "2025-09-13T20:20:11.544718Z",
     "start_time": "2025-09-13T20:20:11.533606Z"
    }
   },
   "cell_type": "code",
   "source": [
    "model_ridge = RidgeCV()\n",
    "model_ridge.fit(x_train, y_train)\n",
    "res3 = evaluar_modelo(model_ridge, x_test, y_test, True)"
   ],
   "id": "361f5071ba8e075a",
   "outputs": [
    {
     "name": "stdout",
     "output_type": "stream",
     "text": [
      "Mean Squared Error: 0.038736295004073204\n",
      "R squared: 0.953156648623123\n",
      "Mean absolute Error: 0.1554897583325409\n"
     ]
    }
   ],
   "execution_count": 80
  },
  {
   "metadata": {
    "ExecuteTime": {
     "end_time": "2025-09-13T20:20:11.639949Z",
     "start_time": "2025-09-13T20:20:11.578075Z"
    }
   },
   "cell_type": "code",
   "source": [
    "model_elasticNet = ElasticNetCV()\n",
    "model_elasticNet.fit(x_train, y_train)\n",
    "res4 = evaluar_modelo(model_elasticNet, x_test, y_test, True)"
   ],
   "id": "24a925e4e3bdaf2c",
   "outputs": [
    {
     "name": "stdout",
     "output_type": "stream",
     "text": [
      "Mean Squared Error: 0.03979271659096918\n",
      "R squared: 0.9518791302752304\n",
      "Mean absolute Error: 0.15585573519646378\n"
     ]
    }
   ],
   "execution_count": 81
  },
  {
   "metadata": {
    "ExecuteTime": {
     "end_time": "2025-09-13T20:20:11.652276Z",
     "start_time": "2025-09-13T20:20:11.647054Z"
    }
   },
   "cell_type": "code",
   "source": [
    "resultados = [res1, res2, res3, res4]\n",
    "\n",
    "# Mejor según R²\n",
    "mejor_r2 = max(resultados, key=lambda x: x['r2'])\n",
    "print(\"Mejor modelo por R2:\", mejor_r2)\n",
    "\n",
    "# Mejor según MAE\n",
    "mejor_mae = min(resultados, key=lambda x: x['mae'])\n",
    "print(\"Mejor modelo por MAE:\", mejor_mae)\n",
    "\n",
    "# Mejor según MSE\n",
    "mejor_mse = min(resultados, key=lambda x: x['mse'])\n",
    "print(\"Mejor modelo por MSE:\", mejor_mse)\n",
    "\n",
    "#El mejor modelo por R2 y MSE es el de Ridge"
   ],
   "id": "245f53342ddd8ae",
   "outputs": [
    {
     "name": "stdout",
     "output_type": "stream",
     "text": [
      "Mejor modelo por R2: {'mse': 0.038736295004073204, 'r2': 0.953156648623123, 'mae': 0.1554897583325409}\n",
      "Mejor modelo por MAE: {'mse': 0.03952030197729757, 'r2': 0.9522085581016932, 'mae': 0.1554769840572718}\n",
      "Mejor modelo por MSE: {'mse': 0.038736295004073204, 'r2': 0.953156648623123, 'mae': 0.1554897583325409}\n"
     ]
    }
   ],
   "execution_count": 82
  },
  {
   "metadata": {},
   "cell_type": "markdown",
   "source": "**El modelo con mejor R2 es el regularizado por ridge**",
   "id": "127faa82300a9657"
  },
  {
   "metadata": {
    "ExecuteTime": {
     "end_time": "2025-09-13T20:20:11.684678Z",
     "start_time": "2025-09-13T20:20:11.678745Z"
    }
   },
   "cell_type": "code",
   "source": [
    "import joblib\n",
    "\n",
    "joblib.dump(model_ridge, 'linear_regression_model.pkl')\n",
    "print(\"Model saved as 'linear_regression_model.pkl'\")"
   ],
   "id": "b7e62d472fa0a4bf",
   "outputs": [
    {
     "name": "stdout",
     "output_type": "stream",
     "text": [
      "Model saved as 'linear_regression_model.pkl'\n"
     ]
    }
   ],
   "execution_count": 83
  }
 ],
 "metadata": {
  "kernelspec": {
   "name": "python3",
   "language": "python",
   "display_name": "Python 3 (ipykernel)"
  }
 },
 "nbformat": 4,
 "nbformat_minor": 5
}
